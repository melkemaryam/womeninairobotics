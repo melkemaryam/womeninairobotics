{
  "cells": [
    {
      "cell_type": "markdown",
      "source": [
        "To open in Google Colab click here: https://colab.research.google.com/drive/10nrlVHJKKrjiKGoYlYaXOjBPFc2_RRYb?usp=sharing"
      ],
      "metadata": {
        "id": "KmMDT18SV_qf"
      }
    },
    {
      "cell_type": "markdown",
      "metadata": {
        "id": "KtbBxXk6Eshi"
      },
      "source": [
        "# Introduction to Python\n",
        "\n",
        "Python is an *interpreted* language. This means that the instructions are executed directly (by an \"interpreter\"), and you do not have to \"compile\" your code. In addition, you do not need to declare a type for your variables since they are dynamically assigned depending on their content or usage.\n",
        "\n",
        "Python uses **indentation** (whitespaces, created e.g. with pressing the tab key) to delimit a code block (instead of curly brackets, or begin/end keywords, etc). If you do not indent properly, your code will either not run, or worse, will do something unintended.\n",
        "\n",
        "We are going to look into some basic functionalities of Python that are needed for the future labs and coursework exercises. You might be familiar with some of them, but please make sure you are comfortable with all of them.\n",
        "\n",
        "Note that the following code is in Python 3 (not 2), if you are using your own Python environment.\n"
      ]
    },
    {
      "cell_type": "markdown",
      "metadata": {
        "id": "4haaQAfJYssD"
      },
      "source": [
        "## Notebook\n",
        "\n",
        "This environment allows us to both enter text and run code interactively. It is called ***[notebook](https://jupyter.org/)***.\n",
        "\n",
        "Notebooks can be composed of two types of cells: *Text* and *Code*. You can add your own cells (in Colab, hover your mouse over the edge between two cells, an option should pop up to add either a text cell or a code cell)\n",
        "\n",
        "You can edit the content of the *text* cells by double-clicking on them. It follows the [markup rules](https://github.com/adam-p/markdown-here/wiki/Markdown-Cheatsheet).\n",
        "\n",
        "In order to **execute (run) a cell**, you can use one of the following ways:\n",
        "\n",
        "1. `Shift + Enter` : executes a cell and goes to the next one.\n",
        "2. `Ctrl + Enter` : executes a block but stays at the same block.\n",
        "3. The above is equivalent to clicking on the *run* button in the top left menu.\n",
        "4. Use the `Run` tab (at the top of the page), which gives you more options.\n",
        "\n",
        "### Some useful tricks in Notebook:\n",
        "\n",
        "- While writing a code (in a code-type block), you can use the **`tab`** key for **auto-completion**. You can also use `tab` after a **`dot`** to see a drop-down list of the available attributes and methods on an object or a class.\n",
        "\n",
        "- Another cool feature of the `notebook` environment is that in order to get **help** on anything (a method, a function, an object, etc), you can just put a question mark in front of it (without any space) and execute that line. A help box will appear, which you can close after reading.\n",
        "\n",
        "- Something to keep in mind is that objects and functions (runtime variables) persist between different cells in the same notebook session. If you want to clear the memory, you can choose \"Run\" and then the \"Restart Kernel and Run All Cells...\" tab from the top-left menu."
      ]
    },
    {
      "cell_type": "markdown",
      "metadata": {
        "id": "hUiI8HvMW5eS"
      },
      "source": [
        "## Interacting with the user\n",
        "To display information, or ask for the user's input, we can use `print()` and `input()` functions. Here is an example:"
      ]
    },
    {
      "cell_type": "code",
      "execution_count": null,
      "metadata": {
        "id": "Nb8ny_b-HQS1",
        "colab": {
          "base_uri": "https://localhost:8080/"
        },
        "outputId": "cefd6da4-779a-4573-bfa2-657073e889dc"
      },
      "outputs": [
        {
          "output_type": "stream",
          "name": "stdout",
          "text": [
            "What is your name? Hannah\n",
            "Hello Hannah! How can I help you?\n"
          ]
        }
      ],
      "source": [
        "user_input = input(\"What is your name? \")\n",
        "print(\"Hello {}! How can I help you?\".format(user_input.capitalize()))"
      ]
    },
    {
      "cell_type": "markdown",
      "metadata": {
        "id": "8pBgIWI-HrVk"
      },
      "source": [
        "You can of course customise the message displayed to ask information. Also note the (optional) usage of string formatting inside the print function. So the second instruction is just equivalent to:\n"
      ]
    },
    {
      "cell_type": "code",
      "execution_count": null,
      "metadata": {
        "id": "CXndkvdOc1DX",
        "colab": {
          "base_uri": "https://localhost:8080/"
        },
        "outputId": "a32f1700-d89d-479a-cec1-193ba095aac8"
      },
      "outputs": [
        {
          "output_type": "stream",
          "name": "stdout",
          "text": [
            "Hello Hannah! How can I help you?\n"
          ]
        }
      ],
      "source": [
        "print(\"Hello \", end='')\n",
        "print(user_input, end='')\n",
        "print(\"! How can I help you?\")"
      ]
    },
    {
      "cell_type": "markdown",
      "metadata": {
        "id": "C_O4lJkZcmKn"
      },
      "source": [
        "*NOTE:* You can ask for strings or numbers. However, be careful the type that `input()` returns is **always a string**. If you want to ask the user for an integer or a float number, then you can use **type-casting** using `int()` and `float()` functions.\n",
        "\n",
        "**Q. Write the code below that asks the user to enter their name and their age. Print out a message that tells them the year that they will turn 100 years old.**\n"
      ]
    },
    {
      "cell_type": "code",
      "source": [
        "# TO DO"
      ],
      "metadata": {
        "id": "PhQYtH9UMzV-"
      },
      "execution_count": null,
      "outputs": []
    },
    {
      "cell_type": "code",
      "execution_count": null,
      "metadata": {
        "id": "8LNkWLf8ezlY",
        "colab": {
          "base_uri": "https://localhost:8080/"
        },
        "cellView": "form",
        "outputId": "5854ab1d-8683-4b68-aa0c-f2e021976b1e"
      },
      "outputs": [
        {
          "output_type": "stream",
          "name": "stdout",
          "text": [
            "What is your name? Hannah\n",
            "What is your age? 23\n",
            "Hello Hannah.\n",
            "You will turn 100 years old in 77 years.\n"
          ]
        }
      ],
      "source": [
        "# @title Solution\n",
        "# TO DO\n",
        "name = input(\"What is your name? \")\n",
        "age = input(\"What is your age? \")\n",
        "print('Hello ' + name + \".\")\n",
        "print('You will turn 100 years old in ' + str(100-int(age)) + \" years.\")"
      ]
    },
    {
      "cell_type": "markdown",
      "metadata": {
        "id": "AhjMvjnhh1n5"
      },
      "source": [
        "You can also type-cast from numbers (integer or float) to string by using the `str()` function."
      ]
    },
    {
      "cell_type": "markdown",
      "metadata": {
        "id": "FIo1Rg7xcbQG"
      },
      "source": [
        "\n",
        "## Conditions in Python\n",
        "It is typical to want to execute an operation only in some specific cases. It comes down to creating conditions. For instance:"
      ]
    },
    {
      "cell_type": "code",
      "execution_count": null,
      "metadata": {
        "id": "BTKbLbxvIUdm",
        "colab": {
          "base_uri": "https://localhost:8080/"
        },
        "outputId": "705c02d6-6c6e-412a-ce03-4bdb71d02646"
      },
      "outputs": [
        {
          "output_type": "stream",
          "name": "stdout",
          "text": [
            "The value is greater than 5\n"
          ]
        }
      ],
      "source": [
        "val = 7 # change the number\n",
        "if val < 3:\n",
        "   print(\"The input value is smaller than 3\")\n",
        "elif val <= 5:\n",
        "   print(\"The input value is either 3, 4 or 5\")\n",
        "else:\n",
        "   print(\"The value is greater than 5\")"
      ]
    },
    {
      "cell_type": "markdown",
      "metadata": {
        "id": "MS2WmcbkIa0O"
      },
      "source": [
        "Pay attention to the use of *indentation* as well as `:` (the colons).\n",
        "\n",
        "Recall that indentations are NOT optional in Python (so as to only make the code more readable) but rather a strict part of the syntax.   \n",
        "\n",
        "Feel free to change `val` and set it to `1`, `3`, and `4`. You can also change the conditions (using `>, >=, ==`) or just change the thresholds.\n",
        "\n"
      ]
    },
    {
      "cell_type": "markdown",
      "metadata": {
        "id": "aGZSoS0scBAC"
      },
      "source": [
        "**Q. Write the code below that asks the user for a number. Depending on whether the number is even or odd, print out an appropriate message to the user. Use the modulo operator %.**"
      ]
    },
    {
      "cell_type": "code",
      "source": [
        "# TO DO"
      ],
      "metadata": {
        "id": "YNPocsw4OF5F"
      },
      "execution_count": null,
      "outputs": []
    },
    {
      "cell_type": "code",
      "execution_count": null,
      "metadata": {
        "id": "Nd8XR9DDcKvi",
        "colab": {
          "base_uri": "https://localhost:8080/"
        },
        "cellView": "form",
        "outputId": "067265de-f761-416e-83ba-b4ece3c555da"
      },
      "outputs": [
        {
          "output_type": "stream",
          "name": "stdout",
          "text": [
            "Give a number: 65\n",
            "The number is odd.\n"
          ]
        }
      ],
      "source": [
        "# @title Solution\n",
        "# TO DO\n",
        "num = input(\"Give a number: \")\n",
        "if int(num)%2 == 1:\n",
        "    print(\"The number is odd.\")\n",
        "else:\n",
        "    print(\"The number is even\")"
      ]
    },
    {
      "cell_type": "markdown",
      "metadata": {
        "id": "Sf-0uCSTistL"
      },
      "source": [
        "## Using `range()`\n",
        "Python provides a useful function, `range()` that will create an object containing a set of numbers according to its parameters. For instance:"
      ]
    },
    {
      "cell_type": "code",
      "execution_count": null,
      "metadata": {
        "id": "tlVwZXBQJYX6",
        "colab": {
          "base_uri": "https://localhost:8080/"
        },
        "outputId": "192a0ad9-248a-4d6a-dd1d-31c30fd039b0"
      },
      "outputs": [
        {
          "output_type": "stream",
          "name": "stdout",
          "text": [
            "[0, 1, 2, 3, 4, 5, 6, 7, 8, 9]\n"
          ]
        }
      ],
      "source": [
        "my_range = range(10)\n",
        "print(list(my_range))"
      ]
    },
    {
      "cell_type": "markdown",
      "metadata": {
        "id": "zqP458CWJhML"
      },
      "source": [
        "Try to change the argument inside `range()` to `9` and `16`. You should observe that if we are passing only one (integer) argument to this function, it will generate all integers between 0 (**included**) and the input **not included**.\n",
        "\n",
        "Now let's try with two parameters"
      ]
    },
    {
      "cell_type": "code",
      "execution_count": null,
      "metadata": {
        "id": "7Xq2S6wOKLOB",
        "colab": {
          "base_uri": "https://localhost:8080/"
        },
        "outputId": "4ea99c81-c5dc-445a-a0f5-89c8b81cbfa8"
      },
      "outputs": [
        {
          "output_type": "stream",
          "name": "stdout",
          "text": [
            "[2, 3, 4, 5, 6, 7, 8, 9, 10, 11, 12, 13, 14, 15, 16, 17]\n"
          ]
        }
      ],
      "source": [
        "my_second_range = range(2, 18)\n",
        "print(list(my_second_range))"
      ]
    },
    {
      "cell_type": "markdown",
      "metadata": {
        "id": "IBucusfvKTrs"
      },
      "source": [
        "Try to change the two values inside the function. As you notice, this will create an object with all the integers between the first bound (start) **included** to the second bound (stop) **not included**.\n",
        "\n",
        "Now let's try with three arguments:"
      ]
    },
    {
      "cell_type": "code",
      "execution_count": null,
      "metadata": {
        "id": "RjTLUV-AKxIm",
        "colab": {
          "base_uri": "https://localhost:8080/"
        },
        "outputId": "98186cdc-deb3-46c1-f99a-83059df2eec5"
      },
      "outputs": [
        {
          "output_type": "stream",
          "name": "stdout",
          "text": [
            "[3, 6, 9, 12, 15, 18, 21, 24, 27, 30]\n"
          ]
        }
      ],
      "source": [
        "my_third_range = range(3, 31, 3)\n",
        "print(list(my_third_range))"
      ]
    },
    {
      "cell_type": "markdown",
      "metadata": {
        "id": "2TDxpIMrLDt-"
      },
      "source": [
        "Change only the last value, and try to understand what it corresponds to. It is basically the offset between each number inside the object (step size).\n",
        "\n",
        "You should now be able to explain, in the following code, why the first print outputs an empty list whereas the second outputs a list with values:"
      ]
    },
    {
      "cell_type": "code",
      "execution_count": null,
      "metadata": {
        "id": "fZbRQxoxLoP8",
        "colab": {
          "base_uri": "https://localhost:8080/"
        },
        "outputId": "808f2e1e-2683-48af-afa4-750586b0fec7"
      },
      "outputs": [
        {
          "output_type": "stream",
          "name": "stdout",
          "text": [
            "[]\n",
            "[10, 9, 8, 7, 6, 5, 4, 3, 2, 1]\n"
          ]
        }
      ],
      "source": [
        "my_fourth_range = range(1, 11, -1)\n",
        "print(list(my_fourth_range))\n",
        "\n",
        "my_fifth_range = range (10, 0, -1)\n",
        "print(list(my_fifth_range))"
      ]
    },
    {
      "cell_type": "markdown",
      "metadata": {
        "id": "NxLDDxyOMACk"
      },
      "source": [
        "## `For` loops\n",
        "When you need to execute the same operation a given number of times, you may want to use a `for` loop as follows:"
      ]
    },
    {
      "cell_type": "code",
      "execution_count": null,
      "metadata": {
        "id": "b801WTnSMMVO",
        "colab": {
          "base_uri": "https://localhost:8080/"
        },
        "outputId": "b15cd907-1217-4db3-b785-8c1868505592"
      },
      "outputs": [
        {
          "output_type": "stream",
          "name": "stdout",
          "text": [
            "This is iteration number 1.\n",
            "This is iteration number 2.\n",
            "This is iteration number 3.\n",
            "This is iteration number 4.\n",
            "This is iteration number 5.\n"
          ]
        }
      ],
      "source": [
        "for index in range(1, 6):\n",
        "  print(\"This is iteration number {}.\".format(index))"
      ]
    },
    {
      "cell_type": "markdown",
      "metadata": {
        "id": "uLcacrFoMe4t"
      },
      "source": [
        "If you change the `6` to `10`, what happens?\n",
        "\n",
        "Note that you can **nest** `for` loops (again, do not forget the indentation):"
      ]
    },
    {
      "cell_type": "code",
      "execution_count": null,
      "metadata": {
        "id": "-1FbXKNZMwKj",
        "colab": {
          "base_uri": "https://localhost:8080/"
        },
        "outputId": "0f1ba5b1-873f-48b8-82f6-4c214c6f86ac"
      },
      "outputs": [
        {
          "output_type": "stream",
          "name": "stdout",
          "text": [
            "First (outer) index: 0, Second (inner) index: 0\n",
            "First (outer) index: 0, Second (inner) index: 1\n",
            "First (outer) index: 0, Second (inner) index: 2\n",
            "First (outer) index: 1, Second (inner) index: 0\n",
            "First (outer) index: 1, Second (inner) index: 1\n",
            "First (outer) index: 1, Second (inner) index: 2\n",
            "First (outer) index: 2, Second (inner) index: 0\n",
            "First (outer) index: 2, Second (inner) index: 1\n",
            "First (outer) index: 2, Second (inner) index: 2\n",
            "First (outer) index: 3, Second (inner) index: 0\n",
            "First (outer) index: 3, Second (inner) index: 1\n",
            "First (outer) index: 3, Second (inner) index: 2\n",
            "First (outer) index: 4, Second (inner) index: 0\n",
            "First (outer) index: 4, Second (inner) index: 1\n",
            "First (outer) index: 4, Second (inner) index: 2\n"
          ]
        }
      ],
      "source": [
        "for first_index in range(5):\n",
        "  for second_index in range(3):\n",
        "    print(\"First (outer) index: {}, Second (inner) index: {}\".format(first_index, second_index))"
      ]
    },
    {
      "cell_type": "markdown",
      "metadata": {
        "id": "3Mc2wHOaNH7R"
      },
      "source": [
        "How many times did the loop run, i.e. how many messages have been printed? Change the values in the two ranges to understand the sequence of operations.\n",
        "\n",
        "## `While` loop\n",
        "\n",
        "In some cases, we do not know how many times, or for how long, we want to repeat some instructions. For such occasions, we can iterate until a given condition has been met. For instance:"
      ]
    },
    {
      "cell_type": "code",
      "execution_count": null,
      "metadata": {
        "id": "nktR9iaiOS7h",
        "colab": {
          "base_uri": "https://localhost:8080/"
        },
        "outputId": "da2b4dd7-c5c0-41f5-9dc0-800c1c23ff54"
      },
      "outputs": [
        {
          "output_type": "stream",
          "name": "stdout",
          "text": [
            "What is 2 + 2? 4\n",
            "\n",
            "Congrats, you have shown some trace of intelligence!\n"
          ]
        }
      ],
      "source": [
        "answer = 0\n",
        "while answer != 4:\n",
        "  answer = int(input(\"What is 2 + 2? \"))\n",
        "\n",
        "print(\"\\nCongrats, you have shown some trace of intelligence!\")\n"
      ]
    },
    {
      "cell_type": "markdown",
      "metadata": {
        "id": "L74jCHcqO2We"
      },
      "source": [
        "Try to run the above cell while initially giving the *wrong* answer (so *not* 4).\n",
        "\n"
      ]
    },
    {
      "cell_type": "markdown",
      "metadata": {
        "id": "WVr46DTl7EqV"
      },
      "source": [
        "## Lists\n",
        "List is one of the basic data types in Python, holding a collection of items with a specific order.\n",
        "\n",
        "One of the properties of Python's list is that it can contain elements of different types:"
      ]
    },
    {
      "cell_type": "code",
      "execution_count": null,
      "metadata": {
        "id": "UqwXGD28PhpS"
      },
      "outputs": [],
      "source": [
        "my_list = [\"Welcome to AI\", 21, \"q\", -78, [\"What is the answer?\"], [[42]]]"
      ]
    },
    {
      "cell_type": "markdown",
      "metadata": {
        "id": "i13IgPBCPwoX"
      },
      "source": [
        "Keep in mind that a list is an *iterable* object which means that you can directly go through it without indices. The two snippets below will output the exact same thing:\n",
        "\n"
      ]
    },
    {
      "cell_type": "code",
      "execution_count": null,
      "metadata": {
        "id": "BsPgjATKP4xQ",
        "colab": {
          "base_uri": "https://localhost:8080/"
        },
        "outputId": "c480f2ed-6446-4568-b52f-9cc18d9f8975"
      },
      "outputs": [
        {
          "output_type": "stream",
          "name": "stdout",
          "text": [
            "One of the elements of the list is 'Welcome to AI'\n",
            "One of the elements of the list is '21'\n",
            "One of the elements of the list is 'q'\n",
            "One of the elements of the list is '-78'\n",
            "One of the elements of the list is '['What is the answer?']'\n",
            "One of the elements of the list is '[[42]]'\n",
            "-----------------------\n",
            "One of the elements of the list is 'Welcome to AI'\n",
            "One of the elements of the list is '21'\n",
            "One of the elements of the list is 'q'\n",
            "One of the elements of the list is '-78'\n",
            "One of the elements of the list is '['What is the answer?']'\n",
            "One of the elements of the list is '[[42]]'\n"
          ]
        }
      ],
      "source": [
        "# you should not use this:\n",
        "for index in range(len(my_list)):\n",
        "  print(\"One of the elements of the list is '{}'\".format(my_list[index]))\n",
        "\n",
        "print(\"-----------------------\")\n",
        "\n",
        "# we prefer the following in python:\n",
        "for element in my_list:\n",
        "  print(\"One of the elements of the list is '{}'\".format(element))\n",
        "\n"
      ]
    },
    {
      "cell_type": "markdown",
      "metadata": {
        "id": "QiK8AnZsQaKq"
      },
      "source": [
        "*Useful trick:* You can iterate through both the index and the value of the list using the function `enumerate()`:"
      ]
    },
    {
      "cell_type": "code",
      "execution_count": null,
      "metadata": {
        "id": "vs0WPxUFQt4G",
        "colab": {
          "base_uri": "https://localhost:8080/"
        },
        "outputId": "ca8cf848-a811-4082-a1d0-4da3399f516c"
      },
      "outputs": [
        {
          "output_type": "stream",
          "name": "stdout",
          "text": [
            "The element of the list at index 0 is 'Welcome to AI'\n",
            "The element of the list at index 1 is '21'\n",
            "The element of the list at index 2 is 'q'\n",
            "The element of the list at index 3 is '-78'\n",
            "The element of the list at index 4 is '['What is the answer?']'\n",
            "The element of the list at index 5 is '[[42]]'\n"
          ]
        }
      ],
      "source": [
        "for index, value in enumerate(my_list):\n",
        "  print(\"The element of the list at index {} is '{}'\".format(index, value))"
      ]
    },
    {
      "cell_type": "markdown",
      "metadata": {
        "id": "oSoQQpE5_sCj"
      },
      "source": [
        "Note that the indices in Python start with 0 (and not 1!), so:"
      ]
    },
    {
      "cell_type": "code",
      "execution_count": null,
      "metadata": {
        "id": "nTruF2aD_4E4",
        "colab": {
          "base_uri": "https://localhost:8080/"
        },
        "outputId": "7ff21cf8-62bd-4646-87c1-ed2c8db24383"
      },
      "outputs": [
        {
          "output_type": "stream",
          "name": "stdout",
          "text": [
            "The first element of the list is: 'Welcome to AI'\n",
            "The second element of the list is: '21'\n"
          ]
        }
      ],
      "source": [
        "print(\"The first element of the list is: '{}'\".format(my_list[0]))\n",
        "print(\"The second element of the list is: '{}'\".format(my_list[1]))"
      ]
    },
    {
      "cell_type": "markdown",
      "metadata": {
        "id": "9DZzBKroBks7"
      },
      "source": [
        "Python allows negative indexing as well:"
      ]
    },
    {
      "cell_type": "code",
      "execution_count": null,
      "metadata": {
        "id": "KRfIHF7IBjwe",
        "colab": {
          "base_uri": "https://localhost:8080/"
        },
        "outputId": "3de6f6f9-4b64-42d7-aaa5-eb2d6856b1d5"
      },
      "outputs": [
        {
          "output_type": "stream",
          "name": "stdout",
          "text": [
            "The last element of the list is: '[[42]]'\n",
            "The one before the last element of the list is: '['What is the answer?']'\n"
          ]
        }
      ],
      "source": [
        "print(\"The last element of the list is: '{}'\".format(my_list[-1]))\n",
        "print(\"The one before the last element of the list is: '{}'\".format(my_list[-2]))"
      ]
    },
    {
      "cell_type": "markdown",
      "metadata": {
        "id": "yyfqSEzUQ3NW"
      },
      "source": [
        "Another useful property of a list is that you can also access a **slice** of it:"
      ]
    },
    {
      "cell_type": "code",
      "execution_count": null,
      "metadata": {
        "id": "w8Fc6Y4MRCFt",
        "colab": {
          "base_uri": "https://localhost:8080/"
        },
        "outputId": "cfa01988-3cfe-40f8-c749-65dc211fe0e5"
      },
      "outputs": [
        {
          "output_type": "stream",
          "name": "stdout",
          "text": [
            "[21, 'q', -78, ['What is the answer?']]\n"
          ]
        }
      ],
      "source": [
        "print(my_list[1:5])"
      ]
    },
    {
      "cell_type": "markdown",
      "metadata": {
        "id": "Xy2pew6DRQMi"
      },
      "source": [
        "Try to change the two integers inside the squared brackets. What happens? Basically you can access the values of the list indexed between the first boundary **included** and the last boundary **not included**.\n",
        "\n",
        "**Q. You should now be able to explain the output of the following instructions:**"
      ]
    },
    {
      "cell_type": "code",
      "execution_count": null,
      "metadata": {
        "id": "8ulfxgG9GBxx",
        "colab": {
          "base_uri": "https://localhost:8080/"
        },
        "outputId": "6474d612-d8e4-429e-db42-17c28ecebe2c"
      },
      "outputs": [
        {
          "output_type": "stream",
          "name": "stdout",
          "text": [
            "[0, 1]\n",
            "[4, 5, 6, 7, 8, 9]\n",
            "[4, 5, 6, 7, 8]\n",
            "[2, 4, 6, 8]\n"
          ]
        }
      ],
      "source": [
        "simple_list = list(range(10))\n",
        "\n",
        "print(simple_list[:2])\n",
        "print(simple_list[4:])\n",
        "print(simple_list[4:-1])\n",
        "print(simple_list[2:-1:2])"
      ]
    },
    {
      "cell_type": "markdown",
      "metadata": {
        "id": "YuXkTWNwFzwK"
      },
      "source": [
        "## Modifying a list\n",
        "\n",
        "You can change a specific element of a list, or change the size of a list by removing or popping existing elements, or by appending new elements:"
      ]
    },
    {
      "cell_type": "code",
      "execution_count": null,
      "metadata": {
        "id": "8ujzu2wRSJFL",
        "colab": {
          "base_uri": "https://localhost:8080/"
        },
        "outputId": "70a70883-db40-4e3b-e1f4-bc5f66af504b"
      },
      "outputs": [
        {
          "output_type": "stream",
          "name": "stdout",
          "text": [
            "Before removing, the list is:\n",
            "['Welcome to AI', 21, 'q', -78, ['What is the answer?'], [[42]]]\n",
            "\n",
            "After removing -78, the list is:\n",
            "['Welcome to AI', 21, 'q', ['What is the answer?'], [[42]]]\n",
            "\n",
            "After popping the second element, the list is:\n",
            "['Welcome to AI', 21, ['What is the answer?'], [[42]]] and the popped element is q\n",
            "\n",
            "After modification of the second element, the list is:\n",
            "['Welcome to AI', 'I changed this element', ['What is the answer?'], [[42]]]\n",
            "\n",
            "After appending 78.9, the list is:\n",
            "['Welcome to AI', 'I changed this element', ['What is the answer?'], [[42]], 78.9]\n",
            "\n"
          ]
        }
      ],
      "source": [
        "my_list_copy = my_list[:] # We create a copy of the previous list\n",
        "print(\"Before removing, the list is:\\n{}\\n\".format(my_list_copy))\n",
        "\n",
        "my_list_copy.remove(-78) # remove the \"first\" occurence of \"-78\"\n",
        "print(\"After removing -78, the list is:\\n{}\\n\".format(my_list_copy))\n",
        "\n",
        "popped_element = my_list_copy.pop(2) # remove (and return) the item at index 2\n",
        "print(\"After popping the second element, the list is:\\n{} and the popped element is {}\\n\".format(my_list_copy, popped_element))\n",
        "my_list_copy[1] = \"I changed this element\"\n",
        "print(\"After modification of the second element, the list is:\\n{}\\n\".format(my_list_copy))\n",
        "my_list_copy.append(78.9)\n",
        "print(\"After appending 78.9, the list is:\\n{}\\n\".format(my_list_copy))"
      ]
    },
    {
      "cell_type": "markdown",
      "metadata": {
        "id": "Xs-tv_1eTZza"
      },
      "source": [
        "Try to change some indices or values used as arguments and rerun the cell. What do you observe?\n",
        "\n",
        "Please note that `remove()` only deletes the **first** occurrence of the argument in the list. `pop()` would remove and **return** the element corresponding to the specified index (which can also be a negative index, which you should know what the interpretation is by now)."
      ]
    },
    {
      "cell_type": "markdown",
      "metadata": {
        "id": "2blMGkGcLfyz"
      },
      "source": [
        "## List comprehension\n",
        "Instead of creating new lists every time we perform operations on them, Python provides a compact and useful way to deal with that. It is called list comprehension. For instance:"
      ]
    },
    {
      "cell_type": "code",
      "execution_count": null,
      "metadata": {
        "id": "Ay7e58aZVSlz",
        "colab": {
          "base_uri": "https://localhost:8080/"
        },
        "outputId": "3d361c41-def4-48f1-dc7d-6997a6fd7393"
      },
      "outputs": [
        {
          "output_type": "stream",
          "name": "stdout",
          "text": [
            "[1, 32, 243, 1024, 3125]\n"
          ]
        }
      ],
      "source": [
        "print([i**5 for i in range(1,6)])"
      ]
    },
    {
      "cell_type": "markdown",
      "metadata": {
        "id": "WViyPmnHVZOG"
      },
      "source": [
        "It creates a list of each element between 1 and 5 (included) to the power of five. You can play with the numbers inside the `range()` to see what happens. What is the output if instead of `i**5` you have (2*i+1)**2? <br/>\n",
        "You can embed some conditions inside the list comprehension:"
      ]
    },
    {
      "cell_type": "code",
      "execution_count": null,
      "metadata": {
        "id": "Bp1ZIMtlV7Jg",
        "colab": {
          "base_uri": "https://localhost:8080/"
        },
        "outputId": "e559fed5-8a51-48a8-94a3-b5dcb4ff2fe8"
      },
      "outputs": [
        {
          "output_type": "stream",
          "name": "stdout",
          "text": [
            "[1024, 1048576]\n"
          ]
        }
      ],
      "source": [
        "print([i**10 for i in range(1,5) if (i == 2 or i == 4)])"
      ]
    },
    {
      "cell_type": "markdown",
      "metadata": {
        "id": "XJHoRg1HWBe_"
      },
      "source": [
        "Although `i` will take all the value between 1 and 4, only 2<sup>10</sup> and 4<sup>10</sup> will be kept in the output list. Try to change this line to output only 3<sup>6</sup> and 5<sup>6</sup>. You can even add more complexity using *if/else* statement inside."
      ]
    },
    {
      "cell_type": "code",
      "execution_count": null,
      "metadata": {
        "id": "VqBUzyHoWtQp",
        "colab": {
          "base_uri": "https://localhost:8080/"
        },
        "outputId": "adb6f2d9-44e5-4119-865d-deb80b41a191"
      },
      "outputs": [
        {
          "output_type": "stream",
          "name": "stdout",
          "text": [
            "[10, 20, 30, 40, 50, 12, 14, 16, 18, 20]\n",
            "[1, 8, 27, 64, 125, 81, 100]\n"
          ]
        }
      ],
      "source": [
        "print([val * 10 if val <=5 else val *2 for val in range(1, 11)])\n",
        "\n",
        "# modified to get a list containing the cube of all numbers lower than 6 and the square of all values above 8\n",
        "print([val ** 3 if val <=6 else val **2 for val in range(1, 11) if (val <6 or val > 8)])"
      ]
    },
    {
      "cell_type": "markdown",
      "metadata": {
        "id": "rRaUVYyWW3Og"
      },
      "source": [
        "Thanks to the *if/else* statement we can have two different operations carried out on the values of the `range()` based on their value. Now let's try to modify the previous line to get a list containing the cube of all numbers lower than 6 and the square of all values above 8."
      ]
    },
    {
      "cell_type": "markdown",
      "metadata": {
        "id": "1FJJ0B-lMvwm"
      },
      "source": [
        "## Declaring and using functions\n",
        "\n",
        "It is very likely that some operations have to be carried out several times, but not with the same values. Instead of duplicating code, you can create functions."
      ]
    },
    {
      "cell_type": "code",
      "execution_count": null,
      "metadata": {
        "id": "LAkLpdiDXuCa"
      },
      "outputs": [],
      "source": [
        "def mean_function(value1, value2):\n",
        "  # You can do operations here\n",
        "  # ...\n",
        "  # But don't forget to return something\n",
        "  return (value1 + value2) / 2"
      ]
    },
    {
      "cell_type": "markdown",
      "metadata": {
        "id": "3_qvF6wGX1FI"
      },
      "source": [
        "If you run the above cell, nothing happens. It is because we have just created this function and now we can call it:"
      ]
    },
    {
      "cell_type": "code",
      "execution_count": null,
      "metadata": {
        "id": "UWMb6IMcYBbW",
        "colab": {
          "base_uri": "https://localhost:8080/"
        },
        "outputId": "7fc0a3aa-ab4c-4e81-cb6d-c9d53da7546b"
      },
      "outputs": [
        {
          "output_type": "stream",
          "name": "stdout",
          "text": [
            "The mean of 5 and 6 is: 5.5\n",
            "The mean of 7 and 89 is: 48.0\n",
            "The mean of -78 and 983 is: 452.5\n"
          ]
        }
      ],
      "source": [
        "print(\"The mean of 5 and 6 is: {}\".format(mean_function(5, 6)))\n",
        "print(\"The mean of 7 and 89 is: {}\".format(mean_function(7, 89)))\n",
        "print(\"The mean of -78 and 983 is: {}\".format(mean_function(-78, 983)))"
      ]
    },
    {
      "cell_type": "markdown",
      "metadata": {
        "id": "2OrjK8gLYjHZ"
      },
      "source": [
        "As you can see, we can now use this function as much as we want and with different values. Try with your own value. You can even try with floats instead of integers.\n"
      ]
    },
    {
      "cell_type": "markdown",
      "metadata": {
        "id": "v2m8VJzlM2P-"
      },
      "source": [
        "# Numpy basics\n",
        "\n",
        "When dealing with high dimensional problems, we are going to deal with nested lists, which can be a bit painful. That is why we are going to now introduce numpy, a (very useful) Python library allowing, among other things, to manipulate multi-dimensional arrays and perform linear algebra. This lab cannot cover all the useful functions contained in numpy, so we advise you to have a look [here](https://numpy.org/) when needed."
      ]
    },
    {
      "cell_type": "markdown",
      "metadata": {
        "id": "5Oo82uOUM7zi"
      },
      "source": [
        "## Numpy arrays\n",
        "In order to use numpy, we are not going to work with lists any more (even if they are still useful) but numpy arrays. Sometimes it is better to convert lists containing only *integers*, *floats* or nested lists of *integers*, *floats* into numpy arrays. For instance:"
      ]
    },
    {
      "cell_type": "code",
      "execution_count": null,
      "metadata": {
        "id": "4pQMVEO7aAsx",
        "colab": {
          "base_uri": "https://localhost:8080/"
        },
        "outputId": "ea3d9712-aae8-4004-b487-755db645eaaf"
      },
      "outputs": [
        {
          "output_type": "stream",
          "name": "stdout",
          "text": [
            "The shape of the first array is (5,)\n",
            "The shape of the second array is (2, 3)\n"
          ]
        }
      ],
      "source": [
        "import numpy as np\n",
        "\n",
        "my_first_np_array = np.array([5, 9, 8, 5.7, 75])\n",
        "print(\"The shape of the first array is {}\".format(my_first_np_array.shape))\n",
        "\n",
        "my_second_np_array = np.array([[3,-1,5], [5,4,3.8]])\n",
        "print(\"The shape of the second array is {}\".format(my_second_np_array.shape))"
      ]
    },
    {
      "cell_type": "markdown",
      "metadata": {
        "id": "_8NR_q5EalDb"
      },
      "source": [
        "In the first case it is equivalent to a vector with 5 elements. In the second it is equivalent to have a matrix with two rows and 3 columns. Try to change the values and dimensions of the lists to understand the constraints about the dimensions.\n",
        "\n",
        "## Element-wise operations\n",
        "\n",
        "**Q. In the cell below implement the element-wise addition of two lists: `[1, 2, 3]` and `[7, 8, 9]`. Then try to do it with the following matrices: `[[1,2,3], [4,5,6]]` and `[[4,5,6], [1,2,3]]`. You can create a function for that.**"
      ]
    },
    {
      "cell_type": "code",
      "execution_count": null,
      "metadata": {
        "id": "c7MSm41qbkZv",
        "colab": {
          "base_uri": "https://localhost:8080/"
        },
        "outputId": "a761fdfb-5a75-42bb-f965-864e390a203d"
      },
      "outputs": [
        {
          "output_type": "stream",
          "name": "stdout",
          "text": [
            "[8, 10, 12]\n",
            "[[5, 7, 9], [5, 7, 9]]\n"
          ]
        }
      ],
      "source": [
        "# TO DO\n",
        "# with list\n",
        "list1 = [1, 2, 3]\n",
        "list2 = [7, 8, 9]\n",
        "assert(len(list1) == len(list2))\n",
        "res = list1.copy()\n",
        "for i in range(len(list1)):\n",
        "    res[i] = list1[i] + list2[i]\n",
        "print(res)\n",
        "\n",
        "\n",
        "# with matrix\n",
        "mat1 = [[1,2,3], [4,5,6]]\n",
        "mat2 = [[4,5,6], [1,2,3]]\n",
        "assert(len(mat1) == len(mat2) and len(mat1[0]) == len(mat2[0]))\n",
        "res = mat1.copy()\n",
        "for i in range(len(mat1)):\n",
        "    for j in range(len(mat1[0])):\n",
        "        res[i][j] = mat1[i][j] + mat2[i][j]\n",
        "print(res)"
      ]
    },
    {
      "cell_type": "markdown",
      "metadata": {
        "id": "c9oOxaU0bnma"
      },
      "source": [
        "Now let's try to do it with numpy. It is quite convenient.\n"
      ]
    },
    {
      "cell_type": "code",
      "execution_count": null,
      "metadata": {
        "id": "FF2apeSjbyOO",
        "colab": {
          "base_uri": "https://localhost:8080/"
        },
        "outputId": "c5ebf887-b15b-42c7-898b-6d351ae8a65b"
      },
      "outputs": [
        {
          "output_type": "stream",
          "name": "stdout",
          "text": [
            "[ 8 10 12]\n",
            "--------------\n",
            "[[5 7 9]\n",
            " [5 7 9]]\n"
          ]
        }
      ],
      "source": [
        "added_vectors = np.array([1, 2, 3]) + np.array([7, 8, 9])\n",
        "print(added_vectors) # If you want a list and not a numpy array you can do added_vectors.tolist()\n",
        "\n",
        "print(\"--------------\")\n",
        "\n",
        "added_matrices = np.array([[1,2,3], [4,5,6]]) + np.array([[4,5,6], [1,2,3]])\n",
        "print(added_matrices)"
      ]
    },
    {
      "cell_type": "markdown",
      "metadata": {
        "id": "NCWgy9a7cyOA"
      },
      "source": [
        "You can use these results to compare with the output of your functions. They should be the same. As you can see it is more convenient. It is also true for difference, multiplication and division."
      ]
    },
    {
      "cell_type": "markdown",
      "source": [
        "## Simple Examples"
      ],
      "metadata": {
        "id": "mB14K9dWSsSC"
      }
    },
    {
      "cell_type": "code",
      "execution_count": null,
      "metadata": {
        "colab": {
          "base_uri": "https://localhost:8080/"
        },
        "id": "dY-GlpV2LaGi",
        "outputId": "44b2aaba-b029-4022-f50d-71982aebabed"
      },
      "outputs": [
        {
          "output_type": "stream",
          "name": "stdout",
          "text": [
            ";Nh!b.gB|3@xjq9JKVgdA!zk{8WO<BJ]&w&~~@D(c#uCg,'y4VK/H^]*ee*7f+&:uc^6C3j;bx<g6p6\"Xz!:}IJ-'cjI\\.6-$;nW\n"
          ]
        }
      ],
      "source": [
        "import random\n",
        "import string\n",
        "\n",
        "def generate_password(length):\n",
        "    \"\"\"This function generates a random password\n",
        "    of a given length using a combination of\n",
        "    uppercase letters, lowercase letters,\n",
        "    digits, and special characters\"\"\"\n",
        "\n",
        "    # Define a string containing all possible characters\n",
        "    all_chars = string.ascii_letters + string.digits + string.punctuation\n",
        "\n",
        "    # Generate a password using a random selection of characters\n",
        "    password = \"\".join(random.choice(all_chars) for i in range(length))\n",
        "\n",
        "    return password\n",
        "\n",
        "# Test the function by generating a password of length 10\n",
        "password = generate_password(100)\n",
        "print(password)"
      ]
    },
    {
      "cell_type": "code",
      "source": [
        "import random\n",
        "\n",
        "secret_number = random.randint(1, 100)\n",
        "\n",
        "while True:\n",
        "    guess = int(input(\"Guess the number between 1 and 100: \"))\n",
        "\n",
        "    if guess == secret_number:\n",
        "        print(\"Congratulations! You guessed the number!\")\n",
        "        break\n",
        "    elif guess < secret_number:\n",
        "        print(\"Too low! Try again.\")\n",
        "    else:\n",
        "        print(\"Too high! Try again.\")"
      ],
      "metadata": {
        "colab": {
          "base_uri": "https://localhost:8080/"
        },
        "id": "4eWADm9mSvuO",
        "outputId": "048d95f1-c420-4645-8e27-3f4c241d5cbd"
      },
      "execution_count": null,
      "outputs": [
        {
          "output_type": "stream",
          "name": "stdout",
          "text": [
            "Guess the number between 1 and 100: 84\n",
            "Too low! Try again.\n",
            "Guess the number between 1 and 100: 99\n",
            "Too high! Try again.\n",
            "Guess the number between 1 and 100: 90\n",
            "Too low! Try again.\n",
            "Guess the number between 1 and 100: 95\n",
            "Too high! Try again.\n",
            "Guess the number between 1 and 100: 93\n",
            "Too high! Try again.\n",
            "Guess the number between 1 and 100: 92\n",
            "Congratulations! You guessed the number!\n"
          ]
        }
      ]
    },
    {
      "cell_type": "code",
      "source": [
        "'''\n",
        "Mad Libs Generator\n",
        "-------------------------------------------------------------\n",
        "'''\n",
        "\n",
        "# Questions for the user to answer\n",
        "\n",
        "noun = input('Choose a noun: ')\n",
        "\n",
        "p_noun = input('Choose a plural noun: ')\n",
        "\n",
        "noun2 = input('Choose a noun: ')\n",
        "\n",
        "place = input('Name a place: ')\n",
        "\n",
        "adjective = input('Choose an adjective (Describing word): ')\n",
        "\n",
        "noun3 = input('Choose a noun: ')\n",
        "\n",
        "# Print a story from the user input\n",
        "\n",
        "print('------------------------------------------')\n",
        "\n",
        "print('Be kind to your', noun, '- footed', p_noun)\n",
        "\n",
        "print('For a duck may be somebody\\'s', noun2, ',')\n",
        "\n",
        "print('Be kind to your', p_noun, 'in', place)\n",
        "\n",
        "print('Where the weather is always', adjective, '. \\n')\n",
        "\n",
        "print('You may think that is this the', noun3, ',')\n",
        "\n",
        "print('Well it is.')\n",
        "\n",
        "print('------------------------------------------')"
      ],
      "metadata": {
        "colab": {
          "base_uri": "https://localhost:8080/"
        },
        "id": "eEdhFRdWTlaI",
        "outputId": "4de9cb9b-c5a7-4f19-bc80-03cd2f4015de"
      },
      "execution_count": null,
      "outputs": [
        {
          "output_type": "stream",
          "name": "stdout",
          "text": [
            "Choose a noun: dog\n",
            "Choose a plural noun: gods\n",
            "Choose a noun: flower\n",
            "Name a place: london\n",
            "Choose an adjective (Describing word): Beautiful \n",
            "Choose a noun: house\n",
            "------------------------------------------\n",
            "Be kind to your dog - footed gods\n",
            "For a duck may be somebody's flower ,\n",
            "Be kind to your gods in london\n",
            "Where the weather is always Beautiful  . \n",
            "\n",
            "You may think that is this the house ,\n",
            "Well it is.\n",
            "------------------------------------------\n"
          ]
        }
      ]
    },
    {
      "cell_type": "code",
      "source": [],
      "metadata": {
        "id": "3UHDJ7rMT5D4"
      },
      "execution_count": null,
      "outputs": []
    }
  ],
  "metadata": {
    "colab": {
      "provenance": []
    },
    "kernelspec": {
      "display_name": "Python 3 (ipykernel)",
      "language": "python",
      "name": "python3"
    },
    "language_info": {
      "codemirror_mode": {
        "name": "ipython",
        "version": 3
      },
      "file_extension": ".py",
      "mimetype": "text/x-python",
      "name": "python",
      "nbconvert_exporter": "python",
      "pygments_lexer": "ipython3",
      "version": "3.10.8"
    }
  },
  "nbformat": 4,
  "nbformat_minor": 0
}