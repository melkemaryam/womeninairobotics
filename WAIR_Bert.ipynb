{
  "cells": [
    {
      "cell_type": "markdown",
      "source": [
        "To open in Google Colab click here: https://drive.google.com/file/d/1IQByqNejVcge_50V034nro9L7ndT7OGK/view?usp=sharing"
      ],
      "metadata": {
        "id": "hRTPKBFillh3"
      }
    },
    {
      "cell_type": "markdown",
      "source": [
        "# Women in AI & Robotics\n",
        "\n",
        "## Implementing LLMs and fine-tuning them\n",
        "\n",
        "### October 2023\n",
        "\n",
        "We are implementing an open-source LLM called DistilBERT to predict the humor rating in social media posts. We will then fine-tune the model to analyse the performances.\n"
      ],
      "metadata": {
        "id": "jlOzE7B7Cwcu"
      }
    },
    {
      "cell_type": "code",
      "source": [
        "!pip install plot_keras_history"
      ],
      "metadata": {
        "colab": {
          "base_uri": "https://localhost:8080/"
        },
        "id": "xVDzp8PEt5CL",
        "outputId": "9b4b6216-0559-4b65-b8df-3cb1511ba709"
      },
      "execution_count": null,
      "outputs": [
        {
          "output_type": "stream",
          "name": "stdout",
          "text": [
            "Looking in indexes: https://pypi.org/simple, https://us-python.pkg.dev/colab-wheels/public/simple/\n",
            "Requirement already satisfied: plot_keras_history in /usr/local/lib/python3.9/dist-packages (1.1.38)\n",
            "Requirement already satisfied: sanitize-ml-labels>=1.0.48 in /usr/local/lib/python3.9/dist-packages (from plot_keras_history) (1.0.50)\n",
            "Requirement already satisfied: scipy in /usr/local/lib/python3.9/dist-packages (from plot_keras_history) (1.10.1)\n",
            "Requirement already satisfied: support-developer>=1.0.2 in /usr/local/lib/python3.9/dist-packages (from plot_keras_history) (1.0.5)\n",
            "Requirement already satisfied: matplotlib in /usr/local/lib/python3.9/dist-packages (from plot_keras_history) (3.7.1)\n",
            "Requirement already satisfied: pandas in /usr/local/lib/python3.9/dist-packages (from plot_keras_history) (1.5.3)\n",
            "Requirement already satisfied: compress-json in /usr/local/lib/python3.9/dist-packages (from sanitize-ml-labels>=1.0.48->plot_keras_history) (1.0.8)\n",
            "Requirement already satisfied: importlib-resources>=3.2.0 in /usr/local/lib/python3.9/dist-packages (from matplotlib->plot_keras_history) (5.12.0)\n",
            "Requirement already satisfied: contourpy>=1.0.1 in /usr/local/lib/python3.9/dist-packages (from matplotlib->plot_keras_history) (1.0.7)\n",
            "Requirement already satisfied: packaging>=20.0 in /usr/local/lib/python3.9/dist-packages (from matplotlib->plot_keras_history) (23.1)\n",
            "Requirement already satisfied: pyparsing>=2.3.1 in /usr/local/lib/python3.9/dist-packages (from matplotlib->plot_keras_history) (3.0.9)\n",
            "Requirement already satisfied: cycler>=0.10 in /usr/local/lib/python3.9/dist-packages (from matplotlib->plot_keras_history) (0.11.0)\n",
            "Requirement already satisfied: kiwisolver>=1.0.1 in /usr/local/lib/python3.9/dist-packages (from matplotlib->plot_keras_history) (1.4.4)\n",
            "Requirement already satisfied: numpy>=1.20 in /usr/local/lib/python3.9/dist-packages (from matplotlib->plot_keras_history) (1.23.1)\n",
            "Requirement already satisfied: pillow>=6.2.0 in /usr/local/lib/python3.9/dist-packages (from matplotlib->plot_keras_history) (8.4.0)\n",
            "Requirement already satisfied: fonttools>=4.22.0 in /usr/local/lib/python3.9/dist-packages (from matplotlib->plot_keras_history) (4.39.3)\n",
            "Requirement already satisfied: python-dateutil>=2.7 in /usr/local/lib/python3.9/dist-packages (from matplotlib->plot_keras_history) (2.8.2)\n",
            "Requirement already satisfied: pytz>=2020.1 in /usr/local/lib/python3.9/dist-packages (from pandas->plot_keras_history) (2022.7.1)\n",
            "Requirement already satisfied: zipp>=3.1.0 in /usr/local/lib/python3.9/dist-packages (from importlib-resources>=3.2.0->matplotlib->plot_keras_history) (3.15.0)\n",
            "Requirement already satisfied: six>=1.5 in /usr/local/lib/python3.9/dist-packages (from python-dateutil>=2.7->matplotlib->plot_keras_history) (1.16.0)\n"
          ]
        }
      ]
    },
    {
      "cell_type": "markdown",
      "metadata": {
        "id": "2TvyemfDlDmu"
      },
      "source": [
        "# Social Media Processing using BERT\n",
        "\n",
        "This notebook shows how to use HuggingFace's package to import and train regression models to assess humor rating in social media posts in English (SemEval2021: HaHackathon: Detecting and Rating Humor and Offense https://competitions.codalab.org/competitions/27446, **Task-1b**).\n",
        "\n",
        "Detection of humour, especially in social media posts, poses a linguistic challenge to NLP, due to the noise, figurative language, contextuality and subjectivity. You will hence try different methods to address those challenges such as preprocessing, data augmentation, ensembling and multi-task learning.\n",
        "\n",
        "We will download and unzip the data from here: http://smash.inf.ed.ac.uk/hahackathon_data/hahackathon_data.zip.\n",
        "\n",
        "\n",
        "Please make sure you are using the Colab TPU provided by Google."
      ]
    },
    {
      "cell_type": "code",
      "execution_count": null,
      "metadata": {
        "id": "Vkzoj2bRu3Ky",
        "colab": {
          "base_uri": "https://localhost:8080/"
        },
        "outputId": "08f98d1a-32f4-4e47-e3ee-0d8dabcf688d"
      },
      "outputs": [
        {
          "output_type": "stream",
          "name": "stdout",
          "text": [
            "--2023-04-24 00:57:43--  http://smash.inf.ed.ac.uk/hahackathon_data/hahackathon_data.zip\n",
            "Resolving smash.inf.ed.ac.uk (smash.inf.ed.ac.uk)... 129.215.10.97\n",
            "Connecting to smash.inf.ed.ac.uk (smash.inf.ed.ac.uk)|129.215.10.97|:80... connected.\n",
            "HTTP request sent, awaiting response... 200 OK\n",
            "Length: 571603 (558K) [application/zip]\n",
            "Saving to: ‘hahackathon_data.zip.1’\n",
            "\n",
            "hahackathon_data.zi 100%[===================>] 558.21K  1.03MB/s    in 0.5s    \n",
            "\n",
            "2023-04-24 00:57:44 (1.03 MB/s) - ‘hahackathon_data.zip.1’ saved [571603/571603]\n",
            "\n",
            "Archive:  /content/hahackathon_data.zip\n",
            "replace hahackathon data/.DS_Store? [y]es, [n]o, [A]ll, [N]one, [r]ename: y\n",
            "  inflating: hahackathon data/.DS_Store  \n",
            "replace __MACOSX/hahackathon data/._.DS_Store? [y]es, [n]o, [A]ll, [N]one, [r]ename: y\n",
            "  inflating: __MACOSX/hahackathon data/._.DS_Store  \n",
            "replace hahackathon data/test.csv? [y]es, [n]o, [A]ll, [N]one, [r]ename: y\n",
            "  inflating: hahackathon data/test.csv  \n",
            "replace __MACOSX/hahackathon data/._test.csv? [y]es, [n]o, [A]ll, [N]one, [r]ename: y\n",
            "  inflating: __MACOSX/hahackathon data/._test.csv  \n",
            "replace hahackathon data/dev.csv? [y]es, [n]o, [A]ll, [N]one, [r]ename: y\n",
            "  inflating: hahackathon data/dev.csv  \n",
            "replace __MACOSX/hahackathon data/._dev.csv? [y]es, [n]o, [A]ll, [N]one, [r]ename: y\n",
            "  inflating: __MACOSX/hahackathon data/._dev.csv  \n",
            "replace hahackathon data/train.csv? [y]es, [n]o, [A]ll, [N]one, [r]ename: \n",
            "error:  invalid response [{ENTER}]\n",
            "replace hahackathon data/train.csv? [y]es, [n]o, [A]ll, [N]one, [r]ename: y\n",
            "  inflating: hahackathon data/train.csv  \n",
            "replace __MACOSX/hahackathon data/._train.csv? [y]es, [n]o, [A]ll, [N]one, [r]ename: y\n",
            "  inflating: __MACOSX/hahackathon data/._train.csv  \n"
          ]
        }
      ],
      "source": [
        "!wget http://smash.inf.ed.ac.uk/hahackathon_data/hahackathon_data.zip\n",
        "!unzip '/content/hahackathon_data.zip'"
      ]
    },
    {
      "cell_type": "markdown",
      "metadata": {
        "id": "aa3hj8h05WZL"
      },
      "source": [
        "First, we need to install Hugging Face [transformers](https://huggingface.co/transformers/index.html) and [Sentence piece Tokenizers](https://github.com/google/sentencepiece), as well as some helper libraries, with the following commands."
      ]
    },
    {
      "cell_type": "code",
      "execution_count": null,
      "metadata": {
        "id": "modern-olympus",
        "colab": {
          "base_uri": "https://localhost:8080/"
        },
        "outputId": "3a32503e-a5e9-49d5-bbec-5fa6bf80d7f4"
      },
      "outputs": [
        {
          "output_type": "stream",
          "name": "stdout",
          "text": [
            "Enabling notebook extension jupyter-js-widgets/extension...\n",
            "Paths used for configuration of notebook: \n",
            "    \t/root/.jupyter/nbconfig/notebook.json\n",
            "Paths used for configuration of notebook: \n",
            "    \t\n",
            "      - Validating: \u001b[32mOK\u001b[0m\n",
            "Paths used for configuration of notebook: \n",
            "    \t/root/.jupyter/nbconfig/notebook.json\n"
          ]
        }
      ],
      "source": [
        "!pip install -q transformers\n",
        "!pip install -q sentencepiece\n",
        "!pip install -q  ipywidgets\n",
        "!jupyter nbextension enable --py widgetsnbextension"
      ]
    },
    {
      "cell_type": "code",
      "execution_count": null,
      "metadata": {
        "id": "85fRpTxP-W8L"
      },
      "outputs": [],
      "source": [
        "import keras\n",
        "import numpy as np\n",
        "import random\n",
        "import matplotlib.pyplot as plt\n",
        "\n",
        "from keras.layers.core import Dense\n",
        "from keras.layers import Input, GlobalAveragePooling1D\n",
        "from keras.models import Model\n",
        "from keras import backend as K"
      ]
    },
    {
      "cell_type": "markdown",
      "source": [
        "We define the fix seed method to be able to introduce variety into ensembling models."
      ],
      "metadata": {
        "id": "yLbYtQNndziN"
      }
    },
    {
      "cell_type": "code",
      "execution_count": null,
      "metadata": {
        "id": "CedBVCKMyq9d"
      },
      "outputs": [],
      "source": [
        "def set_random_seed(seed=123):\n",
        "  random.seed(seed)\n",
        "  np.random.seed(seed)\n",
        "\n",
        "set_random_seed()"
      ]
    },
    {
      "cell_type": "markdown",
      "metadata": {
        "id": "Zj_jHh2-ggC3"
      },
      "source": [
        "## Regression with BERT\n",
        "\n",
        "We will use the [DistilBert](https://arxiv.org/abs/1910.01108v4) model and its Tokeniser. Feel free to play around with the bacth size and the number of epochs. You might see a difference in the performance."
      ]
    },
    {
      "cell_type": "code",
      "execution_count": null,
      "metadata": {
        "id": "ySbyGAsF-tNH"
      },
      "outputs": [],
      "source": [
        "from transformers import DistilBertTokenizer\n",
        "import tqdm\n",
        "\n",
        "# we will pad to 128 subword tokens\n",
        "PAD_LENGTH = 128\n",
        "bert = 'distilbert-base-uncased'\n",
        "BATCH_SIZE = 512\n",
        "EPOCHS =10\n",
        "\n",
        "# Defining DistilBERT tokenizer\n",
        "tokenizer = DistilBertTokenizer.from_pretrained(bert, do_lower_case=True, add_special_tokens=True,\n",
        "                                                max_length=PAD_LENGTH, padding='max_length', truncation=True)\n",
        "\n",
        "def tokenize(sentences, tokenizer, pad_length=PAD_LENGTH):\n",
        "    if type(sentences) == str:\n",
        "        inputs = tokenizer.encode_plus(sentences, add_special_tokens=True, max_length=pad_length, padding='max_length', truncation=True,\n",
        "                                             return_attention_mask=True, return_token_type_ids=True)\n",
        "        return np.asarray(inputs['input_ids'], dtype='int32'), np.asarray(inputs['attention_mask'], dtype='int32'), np.asarray(inputs['token_type_ids'], dtype='int32')\n",
        "    input_ids, input_masks, input_segments = [],[],[]\n",
        "    for sentence in sentences:\n",
        "        inputs = tokenizer.encode_plus(sentence, add_special_tokens=True, max_length=pad_length, padding='max_length', truncation=True,\n",
        "                                             return_attention_mask=True, return_token_type_ids=True)\n",
        "        input_ids.append(inputs['input_ids'])\n",
        "        input_masks.append(inputs['attention_mask'])\n",
        "        input_segments.append(inputs['token_type_ids'])\n",
        "\n",
        "    return (np.asarray(input_ids, dtype='int32'), np.asarray(input_masks, dtype='int32'), np.asarray(input_segments, dtype='int32'))\n"
      ]
    },
    {
      "cell_type": "markdown",
      "metadata": {
        "id": "WaEJpImWjBdB"
      },
      "source": [
        "Let's read the data using Pandas."
      ]
    },
    {
      "cell_type": "code",
      "execution_count": null,
      "metadata": {
        "id": "7kHK7eTIBAbk"
      },
      "outputs": [],
      "source": [
        "import pandas as pd\n",
        "\n",
        "# Load data with only the necessary columns\n",
        "train_df = pd.read_csv('hahackathon data/train.csv', usecols = ['text','humor_rating','offense_rating'])\n",
        "test_df = pd.read_csv('hahackathon data/test.csv', usecols = ['text','humor_rating','offense_rating'])\n",
        "\n",
        "# Drop the Nans\n",
        "train_df = train_df.dropna()\n",
        "test_df = test_df.dropna()"
      ]
    },
    {
      "cell_type": "markdown",
      "metadata": {
        "id": "x54kpiRejuQd"
      },
      "source": [
        "Let's check a couple of examples."
      ]
    },
    {
      "cell_type": "code",
      "execution_count": null,
      "metadata": {
        "id": "GRSqyozoERV7",
        "colab": {
          "base_uri": "https://localhost:8080/",
          "height": 424
        },
        "outputId": "efec3c6b-3a58-4132-9f28-a565747af453"
      },
      "outputs": [
        {
          "output_type": "execute_result",
          "data": {
            "text/plain": [
              "                                                   text  humor_rating  \\\n",
              "0     TENNESSEE: We're the best state. Nobody even c...          2.42   \n",
              "1     A man inserted an advertisement in the classif...          2.50   \n",
              "2     How many men does it take to open a can of bee...          1.95   \n",
              "3     Told my mom I hit 1200 Twitter followers. She ...          2.11   \n",
              "4     Roses are dead. Love is fake. Weddings are bas...          2.78   \n",
              "...                                                 ...           ...   \n",
              "7991  Sins are like viruses, it's better you keep th...          2.13   \n",
              "7993  My daughter wanted a Cinderella themed birthda...          3.70   \n",
              "7996    Why are aspirins white? Because they work sorry          1.33   \n",
              "7997  Today, we Americans celebrate our independence...          2.55   \n",
              "7998  How to keep the flies off the bride at an Ital...          1.00   \n",
              "\n",
              "      offense_rating  \n",
              "0               0.20  \n",
              "1               1.10  \n",
              "2               2.40  \n",
              "3               0.00  \n",
              "4               0.10  \n",
              "...              ...  \n",
              "7991            0.10  \n",
              "7993            0.00  \n",
              "7996            3.85  \n",
              "7997            0.00  \n",
              "7998            3.00  \n",
              "\n",
              "[4932 rows x 3 columns]"
            ],
            "text/html": [
              "\n",
              "  <div id=\"df-0c8a91cb-b331-425f-a8e7-bf2350cea240\">\n",
              "    <div class=\"colab-df-container\">\n",
              "      <div>\n",
              "<style scoped>\n",
              "    .dataframe tbody tr th:only-of-type {\n",
              "        vertical-align: middle;\n",
              "    }\n",
              "\n",
              "    .dataframe tbody tr th {\n",
              "        vertical-align: top;\n",
              "    }\n",
              "\n",
              "    .dataframe thead th {\n",
              "        text-align: right;\n",
              "    }\n",
              "</style>\n",
              "<table border=\"1\" class=\"dataframe\">\n",
              "  <thead>\n",
              "    <tr style=\"text-align: right;\">\n",
              "      <th></th>\n",
              "      <th>text</th>\n",
              "      <th>humor_rating</th>\n",
              "      <th>offense_rating</th>\n",
              "    </tr>\n",
              "  </thead>\n",
              "  <tbody>\n",
              "    <tr>\n",
              "      <th>0</th>\n",
              "      <td>TENNESSEE: We're the best state. Nobody even c...</td>\n",
              "      <td>2.42</td>\n",
              "      <td>0.20</td>\n",
              "    </tr>\n",
              "    <tr>\n",
              "      <th>1</th>\n",
              "      <td>A man inserted an advertisement in the classif...</td>\n",
              "      <td>2.50</td>\n",
              "      <td>1.10</td>\n",
              "    </tr>\n",
              "    <tr>\n",
              "      <th>2</th>\n",
              "      <td>How many men does it take to open a can of bee...</td>\n",
              "      <td>1.95</td>\n",
              "      <td>2.40</td>\n",
              "    </tr>\n",
              "    <tr>\n",
              "      <th>3</th>\n",
              "      <td>Told my mom I hit 1200 Twitter followers. She ...</td>\n",
              "      <td>2.11</td>\n",
              "      <td>0.00</td>\n",
              "    </tr>\n",
              "    <tr>\n",
              "      <th>4</th>\n",
              "      <td>Roses are dead. Love is fake. Weddings are bas...</td>\n",
              "      <td>2.78</td>\n",
              "      <td>0.10</td>\n",
              "    </tr>\n",
              "    <tr>\n",
              "      <th>...</th>\n",
              "      <td>...</td>\n",
              "      <td>...</td>\n",
              "      <td>...</td>\n",
              "    </tr>\n",
              "    <tr>\n",
              "      <th>7991</th>\n",
              "      <td>Sins are like viruses, it's better you keep th...</td>\n",
              "      <td>2.13</td>\n",
              "      <td>0.10</td>\n",
              "    </tr>\n",
              "    <tr>\n",
              "      <th>7993</th>\n",
              "      <td>My daughter wanted a Cinderella themed birthda...</td>\n",
              "      <td>3.70</td>\n",
              "      <td>0.00</td>\n",
              "    </tr>\n",
              "    <tr>\n",
              "      <th>7996</th>\n",
              "      <td>Why are aspirins white? Because they work sorry</td>\n",
              "      <td>1.33</td>\n",
              "      <td>3.85</td>\n",
              "    </tr>\n",
              "    <tr>\n",
              "      <th>7997</th>\n",
              "      <td>Today, we Americans celebrate our independence...</td>\n",
              "      <td>2.55</td>\n",
              "      <td>0.00</td>\n",
              "    </tr>\n",
              "    <tr>\n",
              "      <th>7998</th>\n",
              "      <td>How to keep the flies off the bride at an Ital...</td>\n",
              "      <td>1.00</td>\n",
              "      <td>3.00</td>\n",
              "    </tr>\n",
              "  </tbody>\n",
              "</table>\n",
              "<p>4932 rows × 3 columns</p>\n",
              "</div>\n",
              "      <button class=\"colab-df-convert\" onclick=\"convertToInteractive('df-0c8a91cb-b331-425f-a8e7-bf2350cea240')\"\n",
              "              title=\"Convert this dataframe to an interactive table.\"\n",
              "              style=\"display:none;\">\n",
              "        \n",
              "  <svg xmlns=\"http://www.w3.org/2000/svg\" height=\"24px\"viewBox=\"0 0 24 24\"\n",
              "       width=\"24px\">\n",
              "    <path d=\"M0 0h24v24H0V0z\" fill=\"none\"/>\n",
              "    <path d=\"M18.56 5.44l.94 2.06.94-2.06 2.06-.94-2.06-.94-.94-2.06-.94 2.06-2.06.94zm-11 1L8.5 8.5l.94-2.06 2.06-.94-2.06-.94L8.5 2.5l-.94 2.06-2.06.94zm10 10l.94 2.06.94-2.06 2.06-.94-2.06-.94-.94-2.06-.94 2.06-2.06.94z\"/><path d=\"M17.41 7.96l-1.37-1.37c-.4-.4-.92-.59-1.43-.59-.52 0-1.04.2-1.43.59L10.3 9.45l-7.72 7.72c-.78.78-.78 2.05 0 2.83L4 21.41c.39.39.9.59 1.41.59.51 0 1.02-.2 1.41-.59l7.78-7.78 2.81-2.81c.8-.78.8-2.07 0-2.86zM5.41 20L4 18.59l7.72-7.72 1.47 1.35L5.41 20z\"/>\n",
              "  </svg>\n",
              "      </button>\n",
              "      \n",
              "  <style>\n",
              "    .colab-df-container {\n",
              "      display:flex;\n",
              "      flex-wrap:wrap;\n",
              "      gap: 12px;\n",
              "    }\n",
              "\n",
              "    .colab-df-convert {\n",
              "      background-color: #E8F0FE;\n",
              "      border: none;\n",
              "      border-radius: 50%;\n",
              "      cursor: pointer;\n",
              "      display: none;\n",
              "      fill: #1967D2;\n",
              "      height: 32px;\n",
              "      padding: 0 0 0 0;\n",
              "      width: 32px;\n",
              "    }\n",
              "\n",
              "    .colab-df-convert:hover {\n",
              "      background-color: #E2EBFA;\n",
              "      box-shadow: 0px 1px 2px rgba(60, 64, 67, 0.3), 0px 1px 3px 1px rgba(60, 64, 67, 0.15);\n",
              "      fill: #174EA6;\n",
              "    }\n",
              "\n",
              "    [theme=dark] .colab-df-convert {\n",
              "      background-color: #3B4455;\n",
              "      fill: #D2E3FC;\n",
              "    }\n",
              "\n",
              "    [theme=dark] .colab-df-convert:hover {\n",
              "      background-color: #434B5C;\n",
              "      box-shadow: 0px 1px 3px 1px rgba(0, 0, 0, 0.15);\n",
              "      filter: drop-shadow(0px 1px 2px rgba(0, 0, 0, 0.3));\n",
              "      fill: #FFFFFF;\n",
              "    }\n",
              "  </style>\n",
              "\n",
              "      <script>\n",
              "        const buttonEl =\n",
              "          document.querySelector('#df-0c8a91cb-b331-425f-a8e7-bf2350cea240 button.colab-df-convert');\n",
              "        buttonEl.style.display =\n",
              "          google.colab.kernel.accessAllowed ? 'block' : 'none';\n",
              "\n",
              "        async function convertToInteractive(key) {\n",
              "          const element = document.querySelector('#df-0c8a91cb-b331-425f-a8e7-bf2350cea240');\n",
              "          const dataTable =\n",
              "            await google.colab.kernel.invokeFunction('convertToInteractive',\n",
              "                                                     [key], {});\n",
              "          if (!dataTable) return;\n",
              "\n",
              "          const docLinkHtml = 'Like what you see? Visit the ' +\n",
              "            '<a target=\"_blank\" href=https://colab.research.google.com/notebooks/data_table.ipynb>data table notebook</a>'\n",
              "            + ' to learn more about interactive tables.';\n",
              "          element.innerHTML = '';\n",
              "          dataTable['output_type'] = 'display_data';\n",
              "          await google.colab.output.renderOutput(dataTable, element);\n",
              "          const docLink = document.createElement('div');\n",
              "          docLink.innerHTML = docLinkHtml;\n",
              "          element.appendChild(docLink);\n",
              "        }\n",
              "      </script>\n",
              "    </div>\n",
              "  </div>\n",
              "  "
            ]
          },
          "metadata": {},
          "execution_count": 125
        }
      ],
      "source": [
        "train_df"
      ]
    },
    {
      "cell_type": "code",
      "execution_count": null,
      "metadata": {
        "id": "AO-g6KuyBAWG"
      },
      "outputs": [],
      "source": [
        "# Get the post text\n",
        "train_examples_list = train_df['text'].tolist()\n",
        "test_examples_list = test_df['text'].tolist()\n",
        "\n",
        "# Get the humour rating for the regression task (we normalise, the values are between 0 and 5)\n",
        "train_targets_list = (train_df['humor_rating']/5).tolist()\n",
        "test_targets_list = (test_df['humor_rating']/5).tolist()"
      ]
    },
    {
      "cell_type": "code",
      "execution_count": null,
      "metadata": {
        "id": "DTg5t7uvtdkd"
      },
      "outputs": [],
      "source": [
        "def get_bert_inputs(examples_list, targets):\n",
        "  input_ids=list()\n",
        "  attention_masks=list()\n",
        "\n",
        "  bert_inp=tokenize(examples_list, tokenizer)\n",
        "  input_ids = bert_inp[0]\n",
        "  attention_masks = bert_inp[1]\n",
        "\n",
        "  targets = np.array(targets)\n",
        "\n",
        "  return input_ids, attention_masks, targets\n",
        "\n",
        "train_input_ids, train_attention_masks, train_targets = get_bert_inputs(train_examples_list, train_targets_list)\n",
        "test_input_ids, test_attention_masks, test_targets = get_bert_inputs(test_examples_list, test_targets_list)\n"
      ]
    },
    {
      "cell_type": "markdown",
      "metadata": {
        "id": "7oNjOY4rl6WR"
      },
      "source": [
        "**Task 1: Build a neural bag of words model using DistilBERT embeddings and the sigmoid activation on the output layer for the regression task.**\n"
      ]
    },
    {
      "cell_type": "code",
      "execution_count": null,
      "metadata": {
        "id": "ALw1nMjNKTgn",
        "colab": {
          "base_uri": "https://localhost:8080/"
        },
        "outputId": "89f2d742-0e3b-405d-caec-3824c5e7a7da"
      },
      "outputs": [
        {
          "output_type": "stream",
          "name": "stderr",
          "text": [
            "WARNING:tensorflow:TPU system grpc://10.113.48.162:8470 has already been initialized. Reinitializing the TPU can cause previously created variables on TPU to be lost.\n",
            "Some layers from the model checkpoint at distilbert-base-uncased were not used when initializing TFDistilBertModel: ['vocab_layer_norm', 'vocab_transform', 'activation_13', 'vocab_projector']\n",
            "- This IS expected if you are initializing TFDistilBertModel from the checkpoint of a model trained on another task or with another architecture (e.g. initializing a BertForSequenceClassification model from a BertForPreTraining model).\n",
            "- This IS NOT expected if you are initializing TFDistilBertModel from the checkpoint of a model that you expect to be exactly identical (initializing a BertForSequenceClassification model from a BertForSequenceClassification model).\n",
            "All the layers of TFDistilBertModel were initialized from the model checkpoint at distilbert-base-uncased.\n",
            "If your task is similar to the task the model of the checkpoint was trained on, you can already use TFDistilBertModel for predictions without further training.\n"
          ]
        }
      ],
      "source": [
        "from transformers import TFDistilBertModel, DistilBertConfig\n",
        "from transformers.models.gpt_neox.modeling_gpt_neox import attention_mask_func\n",
        "import tensorflow as tf\n",
        "\n",
        "\n",
        "class GlobalAveragePooling1DMasked(GlobalAveragePooling1D):\n",
        "    def call(self, x, mask=None):\n",
        "        if mask != None:\n",
        "            return K.sum(x, axis=1) / K.sum(mask, axis=1)\n",
        "        else:\n",
        "            return super().call(x)\n",
        "\n",
        "def get_BERT_layer():\n",
        "  distil_bert = 'distilbert-base-uncased'\n",
        "  config = DistilBertConfig(dropout=0.2, attention_dropout=0.2)\n",
        "  config.output_hidden_states = False\n",
        "\n",
        "  return TFDistilBertModel.from_pretrained(distil_bert, config = config)\n",
        "\n",
        "def create_regression_BoW_bert():\n",
        "\n",
        "  hdepth=16\n",
        "  MAX_SEQUENCE_LENGTH = 128\n",
        "  EMBED_SIZE=100\n",
        "\n",
        "  # create input layer\n",
        "  input_ids = Input(shape=(128,), dtype='int32')\n",
        "  input_masks_ids = Input(shape=(128,), dtype='int32')\n",
        "\n",
        "  # get BERT layer\n",
        "  bert = get_BERT_layer()\n",
        "\n",
        "  # create bert layer\n",
        "  bert_layer = bert(input_ids, attention_mask=input_masks_ids)[0]\n",
        "\n",
        "  # create pooling layer\n",
        "  pooling_layer = GlobalAveragePooling1DMasked()(bert_layer)\n",
        "\n",
        "  # add hidden neurons\n",
        "  hidden_layer = Dense(hdepth, input_shape=(MAX_SEQUENCE_LENGTH, EMBED_SIZE), activation='sigmoid')(pooling_layer)\n",
        "\n",
        "  # add output layer\n",
        "  out_reg = Dense(1, input_shape=(hdepth,), activation='sigmoid')(hidden_layer)\n",
        "\n",
        "  # return model\n",
        "  return tf.keras.Model(inputs=[input_ids, input_masks_ids], outputs=[out_reg])\n",
        "\n",
        "# play around with learning rate value, what do you see?\n",
        "def get_model(use_tpu=True, use_gpu=False, learning_rate=2e-5):\n",
        "  if use_tpu:\n",
        "    # Create distribution strategy\n",
        "    tpu = tf.distribute.cluster_resolver.TPUClusterResolver()\n",
        "    tf.config.experimental_connect_to_cluster(tpu)\n",
        "    tf.tpu.experimental.initialize_tpu_system(tpu)\n",
        "    strategy = tf.distribute.TPUStrategy(tpu)\n",
        "\n",
        "    # Create model on TPU:\n",
        "    with strategy.scope():\n",
        "      model = create_regression_BoW_bert()\n",
        "      optimizer = tf.keras.optimizers.Adam(learning_rate=learning_rate)\n",
        "      model.compile(optimizer=optimizer, loss='categorical_crossentropy', metrics=['accuracy'])\n",
        "  elif use_gpu:\n",
        "    device_name = tf.test.gpu_device_name()\n",
        "    print(device_name)\n",
        "    with tf.device('/device:GPU:0'):\n",
        "      model = create_regression_BoW_bert()\n",
        "      optimizer = tf.keras.optimizers.Adam(learning_rate=learning_rate)\n",
        "      model.compile(optimizer=optimizer, loss='categorical_crossentropy', metrics=['accuracy'])\n",
        "  else:\n",
        "    model = create_regression_BoW_bert()\n",
        "    model.compile(optimizer='adam', loss='categorical_crossentropy', metrics=['accuracy'])\n",
        "  return model\n",
        "\n",
        "\n",
        "model = get_model()"
      ]
    },
    {
      "cell_type": "code",
      "execution_count": null,
      "metadata": {
        "id": "wpoibWdGQJA-",
        "colab": {
          "base_uri": "https://localhost:8080/"
        },
        "outputId": "b7378e62-aeea-4af0-d128-b070d6ac5f60"
      },
      "outputs": [
        {
          "output_type": "stream",
          "name": "stdout",
          "text": [
            "Model: \"model_19\"\n",
            "__________________________________________________________________________________________________\n",
            " Layer (type)                   Output Shape         Param #     Connected to                     \n",
            "==================================================================================================\n",
            " input_39 (InputLayer)          [(None, 128)]        0           []                               \n",
            "                                                                                                  \n",
            " input_40 (InputLayer)          [(None, 128)]        0           []                               \n",
            "                                                                                                  \n",
            " tf_distil_bert_model_19 (TFDis  TFBaseModelOutput(l  66362880   ['input_39[0][0]',               \n",
            " tilBertModel)                  ast_hidden_state=(N               'input_40[0][0]']               \n",
            "                                one, 128, 768),                                                   \n",
            "                                 hidden_states=None                                               \n",
            "                                , attentions=None)                                                \n",
            "                                                                                                  \n",
            " global_average_pooling1d_maske  (None, 768)         0           ['tf_distil_bert_model_19[0][0]']\n",
            " d_19 (GlobalAveragePooling1DMa                                                                   \n",
            " sked)                                                                                            \n",
            "                                                                                                  \n",
            " dense_38 (Dense)               (None, 16)           12304       ['global_average_pooling1d_masked\n",
            "                                                                 _19[0][0]']                      \n",
            "                                                                                                  \n",
            " dense_39 (Dense)               (None, 1)            17          ['dense_38[0][0]']               \n",
            "                                                                                                  \n",
            "==================================================================================================\n",
            "Total params: 66,375,201\n",
            "Trainable params: 66,375,201\n",
            "Non-trainable params: 0\n",
            "__________________________________________________________________________________________________\n"
          ]
        }
      ],
      "source": [
        "model.summary()"
      ]
    },
    {
      "cell_type": "code",
      "execution_count": null,
      "metadata": {
        "id": "FHz1pJyV50cM",
        "colab": {
          "base_uri": "https://localhost:8080/"
        },
        "outputId": "254d702b-a0f4-46b4-d54b-ba507df99d24"
      },
      "outputs": [
        {
          "output_type": "stream",
          "name": "stdout",
          "text": [
            "Epoch 1/10\n",
            "10/10 [==============================] - 91s 4s/step - loss: 0.0145 - mean_squared_error: 0.0144\n",
            "Epoch 2/10\n",
            "10/10 [==============================] - 2s 186ms/step - loss: 0.0122 - mean_squared_error: 0.0122\n",
            "Epoch 3/10\n",
            "10/10 [==============================] - 2s 187ms/step - loss: 0.0116 - mean_squared_error: 0.0116\n",
            "Epoch 4/10\n",
            "10/10 [==============================] - 2s 183ms/step - loss: 0.0112 - mean_squared_error: 0.0112\n",
            "Epoch 5/10\n",
            "10/10 [==============================] - 2s 181ms/step - loss: 0.0107 - mean_squared_error: 0.0107\n",
            "Epoch 6/10\n",
            "10/10 [==============================] - 2s 182ms/step - loss: 0.0104 - mean_squared_error: 0.0104\n",
            "Epoch 7/10\n",
            "10/10 [==============================] - 2s 188ms/step - loss: 0.0099 - mean_squared_error: 0.0100\n",
            "Epoch 8/10\n",
            "10/10 [==============================] - 2s 183ms/step - loss: 0.0095 - mean_squared_error: 0.0095\n",
            "Epoch 9/10\n",
            "10/10 [==============================] - 2s 182ms/step - loss: 0.0092 - mean_squared_error: 0.0092\n",
            "Epoch 10/10\n",
            "10/10 [==============================] - 2s 181ms/step - loss: 0.0087 - mean_squared_error: 0.0088\n"
          ]
        }
      ],
      "source": [
        "history = model.fit([train_input_ids, train_attention_masks],\n",
        "                    train_targets,\n",
        "                    epochs=EPOCHS,\n",
        "                    batch_size=BATCH_SIZE,\n",
        "                    verbose=1)"
      ]
    },
    {
      "cell_type": "markdown",
      "metadata": {
        "id": "ILYZoU8bDskk"
      },
      "source": [
        "We evaluate our model on the test set."
      ]
    },
    {
      "cell_type": "code",
      "execution_count": null,
      "metadata": {
        "id": "3C75iSsedcRX",
        "colab": {
          "base_uri": "https://localhost:8080/"
        },
        "outputId": "d09bb184-e558-4f6f-9419-1d06fc2aa637"
      },
      "outputs": [
        {
          "output_type": "stream",
          "name": "stdout",
          "text": [
            "20/20 [==============================] - 10s 139ms/step - loss: 0.0143 - mean_squared_error: 0.0139\n",
            "Test loss: 0.014315152540802956\n",
            "Test MSE: 0.013892611488699913\n"
          ]
        }
      ],
      "source": [
        "results = model.evaluate([test_input_ids,test_attention_masks], test_targets)\n",
        "print('Test loss:', results[0])\n",
        "print('Test Accuracy:', results[1])"
      ]
    },
    {
      "cell_type": "code",
      "source": [
        "from plot_keras_history import plot_history\n",
        "plot_history(history.history, path=\"std.png\")\n",
        "plt.show()"
      ],
      "metadata": {
        "colab": {
          "base_uri": "https://localhost:8080/",
          "height": 521
        },
        "id": "PWYgsXFWtyTn",
        "outputId": "4633b445-fd54-4f27-ac4d-e567cfdbeddd"
      },
      "execution_count": null,
      "outputs": [
        {
          "output_type": "display_data",
          "data": {
            "text/plain": [
              "<Figure size 1000x500 with 2 Axes>"
            ],
            "image/png": "[encoded data removed]"
          },
          "metadata": {}
        }
      ]
    },
    {
      "cell_type": "markdown",
      "metadata": {
        "id": "aa0sSeJE0UwU"
      },
      "source": [
        "Get the array of predictions here so that you can plot the outputs later."
      ]
    },
    {
      "cell_type": "code",
      "execution_count": null,
      "metadata": {
        "id": "OpXK5mAs38US",
        "colab": {
          "base_uri": "https://localhost:8080/"
        },
        "outputId": "22be9abc-7002-4c52-acbf-f13c286437c0"
      },
      "outputs": [
        {
          "output_type": "stream",
          "name": "stdout",
          "text": [
            "20/20 [==============================] - 9s 311ms/step\n"
          ]
        }
      ],
      "source": [
        "preds = model.predict(\n",
        "      [test_input_ids,test_attention_masks],\n",
        "      batch_size=None,\n",
        "      verbose=\"auto\",\n",
        "      steps=None,\n",
        "      callbacks=None,\n",
        "      max_queue_size=10,\n",
        "      workers=1,\n",
        "      use_multiprocessing=False)\n",
        "\n",
        "preds = np.array(preds).flatten()"
      ]
    },
    {
      "cell_type": "markdown",
      "metadata": {
        "id": "-LS3Oox93a4x"
      },
      "source": [
        "# Feature Engineering & Data Augmentation\n",
        "\n",
        "**Task 2: Preprocess the textual data with the Ekphrasis library following the standard pipeline https://github.com/cbaziotis/ekphrasis#text-pre-processing-pipeline. How does this affect the performance?**"
      ]
    },
    {
      "cell_type": "code",
      "execution_count": null,
      "metadata": {
        "id": "oTVPfG-43ZSe"
      },
      "outputs": [],
      "source": [
        "!pip install -q ekphrasis\n",
        "!pip3 install -q emoji==0.6.0"
      ]
    },
    {
      "cell_type": "code",
      "source": [
        "# import library packages\n",
        "from ekphrasis.classes.preprocessor import TextPreProcessor\n",
        "from ekphrasis.classes.tokenizer import SocialTokenizer\n",
        "from ekphrasis.dicts.emoticons import emoticons\n",
        "\n",
        "# create the text preprocessor\n",
        "text_processor = TextPreProcessor(\n",
        "\n",
        "    # terms that will be normalized\n",
        "    normalize=['url', 'email', 'percent', 'money', 'phone', 'user',\n",
        "        'time', 'url', 'date', 'number'],\n",
        "\n",
        "    fix_html=True,  # fix HTML tokens\n",
        "\n",
        "    # corpus from which the word statistics are going to be used\n",
        "    # for word segmentation\n",
        "    segmenter=\"twitter\",\n",
        "\n",
        "    # corpus from which the word statistics are going to be used\n",
        "    # for spell correction\n",
        "    corrector=\"twitter\",\n",
        "\n",
        "    unpack_hashtags=True,  # perform word segmentation on hashtags\n",
        "    unpack_contractions=True,  # Unpack contractions (can't -> can not)\n",
        "    spell_correct_elong=False,  # spell correction for elongated words\n",
        "\n",
        "    # select a tokenizer. You can use SocialTokenizer, or pass your own\n",
        "    # the tokenizer, should take as input a string and return a list of tokens\n",
        "    tokenizer=SocialTokenizer(lowercase=True).tokenize,\n",
        "\n",
        "    # list of dictionaries, for replacing tokens extracted from the text,\n",
        "    # with other expressions. You can pass more than one dictionaries.\n",
        "    dicts=[emoticons]\n",
        ")"
      ],
      "metadata": {
        "colab": {
          "base_uri": "https://localhost:8080/"
        },
        "id": "1dH9CUU9va0v",
        "outputId": "03fed7d8-d351-4334-f03b-ae6d8c47344b"
      },
      "execution_count": null,
      "outputs": [
        {
          "output_type": "stream",
          "name": "stdout",
          "text": [
            "Reading twitter - 1grams ...\n",
            "Reading twitter - 2grams ...\n",
            "Reading twitter - 1grams ...\n"
          ]
        }
      ]
    },
    {
      "cell_type": "code",
      "execution_count": null,
      "metadata": {
        "id": "7_KBBFNn30Cp"
      },
      "outputs": [],
      "source": [
        "new_train_examples_list = [\" \".join(text_processor.pre_process_doc(example)) for example in train_examples_list]\n",
        "new_test_examples_list = [\" \".join(text_processor.pre_process_doc(example)) for example in test_examples_list]\n"
      ]
    },
    {
      "cell_type": "code",
      "execution_count": null,
      "metadata": {
        "id": "OgBytRATYCJl",
        "colab": {
          "base_uri": "https://localhost:8080/"
        },
        "outputId": "c363c6d7-4aba-4951-fc32-b811dad8d64c"
      },
      "outputs": [
        {
          "output_type": "stream",
          "name": "stdout",
          "text": [
            "Original Text: TENNESSEE: We're the best state. Nobody even comes close. *Elevennessee walks into the room* TENNESSEE: Oh shit...\n",
            "Preprocessed Text: tennessee : we are the best state . nobody even comes close . * elevennessee walks into the room * tennessee : oh shit . . .\n"
          ]
        }
      ],
      "source": [
        "print(\"Original Text:\", train_examples_list[0])\n",
        "print(\"Preprocessed Text:\", new_train_examples_list[0])"
      ]
    },
    {
      "cell_type": "code",
      "execution_count": null,
      "metadata": {
        "id": "16Vk_2Km31pB",
        "colab": {
          "base_uri": "https://localhost:8080/"
        },
        "outputId": "3a6f2c84-012f-4ca7-c337-46b889744e13"
      },
      "outputs": [
        {
          "output_type": "stream",
          "name": "stderr",
          "text": [
            "WARNING:tensorflow:TPU system grpc://10.113.48.162:8470 has already been initialized. Reinitializing the TPU can cause previously created variables on TPU to be lost.\n",
            "Some layers from the model checkpoint at distilbert-base-uncased were not used when initializing TFDistilBertModel: ['vocab_layer_norm', 'vocab_transform', 'activation_13', 'vocab_projector']\n",
            "- This IS expected if you are initializing TFDistilBertModel from the checkpoint of a model trained on another task or with another architecture (e.g. initializing a BertForSequenceClassification model from a BertForPreTraining model).\n",
            "- This IS NOT expected if you are initializing TFDistilBertModel from the checkpoint of a model that you expect to be exactly identical (initializing a BertForSequenceClassification model from a BertForSequenceClassification model).\n",
            "All the layers of TFDistilBertModel were initialized from the model checkpoint at distilbert-base-uncased.\n",
            "If your task is similar to the task the model of the checkpoint was trained on, you can already use TFDistilBertModel for predictions without further training.\n"
          ]
        },
        {
          "output_type": "stream",
          "name": "stdout",
          "text": [
            "Epoch 1/10\n",
            "10/10 [==============================] - 89s 4s/step - loss: 0.0163 - mean_squared_error: 0.0161\n",
            "Epoch 2/10\n",
            "10/10 [==============================] - 2s 180ms/step - loss: 0.0123 - mean_squared_error: 0.0123\n",
            "Epoch 3/10\n",
            "10/10 [==============================] - 2s 182ms/step - loss: 0.0117 - mean_squared_error: 0.0117\n",
            "Epoch 4/10\n",
            "10/10 [==============================] - 2s 185ms/step - loss: 0.0113 - mean_squared_error: 0.0112\n",
            "Epoch 5/10\n",
            "10/10 [==============================] - 2s 180ms/step - loss: 0.0109 - mean_squared_error: 0.0109\n",
            "Epoch 6/10\n",
            "10/10 [==============================] - 2s 181ms/step - loss: 0.0105 - mean_squared_error: 0.0105\n",
            "Epoch 7/10\n",
            "10/10 [==============================] - 2s 189ms/step - loss: 0.0101 - mean_squared_error: 0.0101\n",
            "Epoch 8/10\n",
            "10/10 [==============================] - 2s 182ms/step - loss: 0.0097 - mean_squared_error: 0.0097\n",
            "Epoch 9/10\n",
            "10/10 [==============================] - 2s 186ms/step - loss: 0.0093 - mean_squared_error: 0.0093\n",
            "Epoch 10/10\n",
            "10/10 [==============================] - 2s 181ms/step - loss: 0.0089 - mean_squared_error: 0.0089\n"
          ]
        }
      ],
      "source": [
        "train_input_ids, train_attention_masks, train_targets = get_bert_inputs(new_train_examples_list, train_targets_list)\n",
        "test_input_ids, test_attention_masks, test_targets = get_bert_inputs(new_test_examples_list, test_targets_list)\n",
        "\n",
        "model = get_model()\n",
        "history = model.fit([train_input_ids,train_attention_masks],\n",
        "                    train_targets,\n",
        "                    epochs=EPOCHS,\n",
        "                    batch_size=BATCH_SIZE,\n",
        "                    verbose=1)"
      ]
    },
    {
      "cell_type": "code",
      "execution_count": null,
      "metadata": {
        "id": "Jq1skI4nLEJl",
        "colab": {
          "base_uri": "https://localhost:8080/"
        },
        "outputId": "d599d4bb-c4a0-4511-9c2a-c007a4918e34"
      },
      "outputs": [
        {
          "output_type": "stream",
          "name": "stdout",
          "text": [
            "20/20 [==============================] - 11s 139ms/step - loss: 0.0129 - mean_squared_error: 0.0125\n",
            "Test loss: 0.012899475172162056\n",
            "Test MSE: 0.01253219973295927\n"
          ]
        }
      ],
      "source": [
        "results = model.evaluate([test_input_ids,test_attention_masks], test_targets)\n",
        "print('Test loss:', results[0])\n",
        "print('Test Accuracy:', results[1])"
      ]
    },
    {
      "cell_type": "code",
      "source": [
        "plot_history(history.history, path=\"std.png\")\n",
        "plt.show()"
      ],
      "metadata": {
        "colab": {
          "base_uri": "https://localhost:8080/",
          "height": 521
        },
        "id": "plu1rrIVxO_2",
        "outputId": "99073a24-d586-4eda-bdc3-966de93696f6"
      },
      "execution_count": null,
      "outputs": [
        {
          "output_type": "display_data",
          "data": {
            "text/plain": [
              "<Figure size 1000x500 with 2 Axes>"
            ],
            "image/png": "[encoded data removed]"
          },
          "metadata": {}
        }
      ]
    },
    {
      "cell_type": "markdown",
      "metadata": {
        "id": "DKzuPMLiQWL6"
      },
      "source": [
        "Your results may be different depending on the implementation but typically special preprocessing does not drastically change the performance for this task."
      ]
    }
  ],
  "metadata": {
    "accelerator": "TPU",
    "colab": {
      "provenance": [],
      "gpuType": "T4"
    },
    "gpuClass": "standard",
    "kernelspec": {
      "display_name": "Python 3",
      "language": "python",
      "name": "python3"
    },
    "language_info": {
      "codemirror_mode": {
        "name": "ipython",
        "version": 3
      },
      "file_extension": ".py",
      "mimetype": "text/x-python",
      "name": "python",
      "nbconvert_exporter": "python",
      "pygments_lexer": "ipython3",
      "version": "3.7.1"
    }
  },
  "nbformat": 4,
  "nbformat_minor": 0
}